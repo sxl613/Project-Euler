{
 "cells": [
  {
   "cell_type": "code",
   "execution_count": 70,
   "metadata": {},
   "outputs": [],
   "source": [
    "def f(n):\n",
    "    \"\"\"\n",
    "    Calculates the sum of digits of n!\n",
    "    \n",
    "    Args:\n",
    "        n: integer  \n",
    "    \"\"\"\n",
    "    D = [0] * 100000\n",
    "    D[0] = 1\n",
    "    c = 0\n",
    "    f = 0\n",
    "    l = 0\n",
    "    for i in range(2, n + 1):\n",
    "        c = 0\n",
    "        for k in range(f, l + 1):\n",
    "            c = i * D[k] + c\n",
    "            D[k] = c % 100000\n",
    "            if (k == f and c % 100000 == 0):\n",
    "                f += 1\n",
    "            c = c // 100000\n",
    "        if c > 0:    \n",
    "            l += 1\n",
    "            D[l] = c\n",
    "    return sum([((i % 10) + ((i//10) % 10) + ((i//100) % 10) + ((i//1000) % 10) + ((i//10000) % 10) + ((i//100000) % 10)) for i in D[f:l+1]])      "
   ]
  },
  {
   "cell_type": "code",
   "execution_count": 71,
   "metadata": {
    "scrolled": true
   },
   "outputs": [
    {
     "name": "stdout",
     "output_type": "stream",
     "text": [
      "104 ms ± 2.85 ms per loop (mean ± std. dev. of 7 runs, 10 loops each)\n"
     ]
    }
   ],
   "source": [
    "%timeit f(1000)"
   ]
  }
 ],
 "metadata": {
  "kernelspec": {
   "display_name": "Python 3",
   "language": "python",
   "name": "python3"
  },
  "language_info": {
   "codemirror_mode": {
    "name": "ipython",
    "version": 3
   },
   "file_extension": ".py",
   "mimetype": "text/x-python",
   "name": "python",
   "nbconvert_exporter": "python",
   "pygments_lexer": "ipython3",
   "version": "3.5.4"
  }
 },
 "nbformat": 4,
 "nbformat_minor": 2
}
